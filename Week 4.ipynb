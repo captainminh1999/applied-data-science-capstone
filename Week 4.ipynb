{
    "cells": [
        {
            "cell_type": "markdown",
            "metadata": {
                "collapsed": true
            },
            "source": "# Capstone Project - The Battle of Neighborhoods"
        },
        {
            "cell_type": "markdown",
            "metadata": {},
            "source": "# Sydney - Bring the Urban Vibe to Food Lovers"
        },
        {
            "cell_type": "markdown",
            "metadata": {},
            "source": "**Introduction/Business problem**"
        },
        {
            "cell_type": "markdown",
            "metadata": {},
            "source": "Sydney, the city the author lives in, attracts a large number of tourists, not least due to its famous Opera House and the Harbour Bridge. Australia, where the city is situated, is not well known for nightlife. Finding the right spot to entertain at night in Sydney can be difficult and frustrating. \n\nThus, the problem I want to solve is to give a simple recommendation to tourists in Sydney: in which district of the city will you find the highest number of bars, pubs or lounges? The **target audience** are foreign tourists looking for an area in which to enjoy their nightlife."
        },
        {
            "cell_type": "markdown",
            "metadata": {},
            "source": "**Description of the data**"
        },
        {
            "cell_type": "markdown",
            "metadata": {},
            "source": "I will, as requested by the assignment task, use foursquare data about nightlife in Sydney. Here is an example of a bar in Sydney on foursquare: https://foursquare.com/v/opera-bar/4b058760f964a520988e22e3 I will use data such as the bar name, ID, location, category of drinks (beers etc.?). \n\nAlso, I will use the overview of districts/city parts of Sydney from Wikipedia: https://en.wikipedia.org/wiki/City_of_Sydney Here, you will find a section \"Suburbs and localities in the local government area\" which shows the 34 local government areas. I will use the areas and the data about nightlife in these areas from foursquare to show the density of entertaining place in them. "
        },
        {
            "cell_type": "code",
            "execution_count": null,
            "metadata": {},
            "outputs": [],
            "source": ""
        }
    ],
    "metadata": {
        "kernelspec": {
            "display_name": "Python 3.7",
            "language": "python",
            "name": "python3"
        },
        "language_info": {
            "codemirror_mode": {
                "name": "ipython",
                "version": 3
            },
            "file_extension": ".py",
            "mimetype": "text/x-python",
            "name": "python",
            "nbconvert_exporter": "python",
            "pygments_lexer": "ipython3",
            "version": "3.7.9"
        }
    },
    "nbformat": 4,
    "nbformat_minor": 1
}